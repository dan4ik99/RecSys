{
 "cells": [
  {
   "cell_type": "markdown",
   "metadata": {},
   "source": [
    "Немного полезных функций"
   ]
  },
  {
   "cell_type": "markdown",
   "metadata": {},
   "source": [
    "Загрузка данных из файла. Тут две полезные конструкции. \n",
    "Первая, это построчное чтение реализованное с помощью\n",
    "~~~\n",
    "for line in open(path+'/movies.dat'):\n",
    "~~~\n",
    "Вторая -- функция split(), позволяющая разделить строку, по символу или последовательности символов в качестве разделителя.\n"
   ]
  },
  {
   "cell_type": "code",
   "execution_count": 6,
   "metadata": {},
   "outputs": [],
   "source": [
    "#Чтение данных\n",
    "\n",
    "def loadMovieLens1M(path='./ml-1m'):\n",
    "# Получить названия фильмов\n",
    "    movies={}\n",
    "    for line in open(path+'/movies.dat'):\n",
    "        (id,title)=line.split('::')[0:2] #при желании тут можно добавить чтение жанров.\n",
    "        movies[id]=title\n",
    "# Загрузить данные\n",
    "    prefs={}\n",
    "    for line in open(path+'/ratings.dat'):\n",
    "        (user,movieid,rating,ts)=line.split('::')\n",
    "        prefs.setdefault(user,{})\n",
    "        prefs[user][movieid]=float(rating)\n",
    "    return prefs, movies"
   ]
  },
  {
   "cell_type": "code",
   "execution_count": 7,
   "metadata": {},
   "outputs": [
    {
     "name": "stdout",
     "output_type": "stream",
     "text": [
      "Wall time: 672 ms\n"
     ]
    }
   ],
   "source": [
    "%%time\n",
    "critics, movies = loadMovieLens1M()\n"
   ]
  },
  {
   "cell_type": "code",
   "execution_count": 8,
   "metadata": {},
   "outputs": [],
   "source": [
    "recode_movie = {}\n",
    "k = 0\n",
    "for i in movies:\n",
    "    recode_movie[i] = k\n",
    "    k += 1\n",
    "movie_num = k    \n",
    "\n",
    "recode_users = {}\n",
    "k = 0\n",
    "for i in critics:\n",
    "    recode_users[i] = k\n",
    "    k += 1\n",
    "user_num = k\n",
    "    "
   ]
  },
  {
   "cell_type": "markdown",
   "metadata": {},
   "source": [
    "Отберем, например, около 40 процентов пользователей:"
   ]
  },
  {
   "cell_type": "code",
   "execution_count": 9,
   "metadata": {},
   "outputs": [
    {
     "name": "stdout",
     "output_type": "stream",
     "text": [
      "Wall time: 855 ms\n"
     ]
    }
   ],
   "source": [
    "%%time\n",
    "from random import random, seed\n",
    "from copy import deepcopy\n",
    "seed(20)\n",
    "critics_train = deepcopy(critics)\n",
    "final_test = {}\n",
    "\n",
    "# 40% пользователей\n",
    "final_user_list = [u for u in critics if random()<0.40]\n",
    "\n",
    "# для 40% пользователей спрячем 40% фильмов\n",
    "for u in final_user_list:\n",
    "    to_remove = [m for m in critics[u] if random()<0.40]\n",
    "    final_test[u] = {}\n",
    "    for m in to_remove:\n",
    "        final_test[u][m] = critics[u][m]\n",
    "        del critics_train[u][m]\n",
    "    "
   ]
  },
  {
   "cell_type": "code",
   "execution_count": 10,
   "metadata": {},
   "outputs": [
    {
     "data": {
      "text/plain": [
       "842415"
      ]
     },
     "execution_count": 10,
     "metadata": {},
     "output_type": "execute_result"
    }
   ],
   "source": [
    "all_train_pairs = [(u, m, critics_train[u][m]) for u in critics_train for m in  critics_train[u]]\n",
    "len(all_train_pairs)"
   ]
  },
  {
   "cell_type": "code",
   "execution_count": 11,
   "metadata": {},
   "outputs": [],
   "source": [
    "validate_pairs = [x for x in all_train_pairs if random()<0.15]\n",
    "vset = set(validate_pairs)\n",
    "train_pairs = [x for x in all_train_pairs if not x in vset]"
   ]
  },
  {
   "cell_type": "code",
   "execution_count": 12,
   "metadata": {},
   "outputs": [],
   "source": [
    "user_list = [x for x in critics]\n",
    "movie_list = [x for x in movies]"
   ]
  },
  {
   "cell_type": "markdown",
   "metadata": {},
   "source": [
    "попробуем простейший вариант стохастического градиентного спуска"
   ]
  },
  {
   "cell_type": "code",
   "execution_count": 14,
   "metadata": {},
   "outputs": [],
   "source": [
    "seed(6660)\n",
    "L = 2\n",
    "Pi = {}\n",
    "Bi = {}\n",
    "for u in user_list:\n",
    "    Bi[u] = 0\n",
    "    Pi[u] = []\n",
    "    for i in range(L):\n",
    "        Pi[u].append(random())\n",
    "Ba = {}\n",
    "Qa = {}        \n",
    "for m in movie_list:\n",
    "    Ba[m] = 0 \n",
    "    Qa[m] = []\n",
    "    for i in range(L):\n",
    "        Qa[m].append(random())\n"
   ]
  },
  {
   "cell_type": "code",
   "execution_count": 15,
   "metadata": {},
   "outputs": [
    {
     "data": {
      "text/plain": [
       "715521"
      ]
     },
     "execution_count": 15,
     "metadata": {},
     "output_type": "execute_result"
    }
   ],
   "source": [
    "len(train_pairs)"
   ]
  },
  {
   "cell_type": "code",
   "execution_count": 16,
   "metadata": {},
   "outputs": [],
   "source": [
    "from math import sqrt \n",
    "def evaluate_ratings(rating_list, Pi, Qa, Bi, Ba, L = 5):\n",
    "    summ = 0\n",
    "    for (u, m, r) in rating_list:\n",
    "        rate = Bi[u] + Ba[m]\n",
    "        for i in range(L):\n",
    "            rate += Pi[u][i]*Qa[m][i]\n",
    "        summ += (r - rate)*(r - rate)\n",
    "    return sqrt(summ/len(rating_list))\n",
    "        "
   ]
  },
  {
   "cell_type": "code",
   "execution_count": 17,
   "metadata": {},
   "outputs": [
    {
     "name": "stdout",
     "output_type": "stream",
     "text": [
      "3.2959759202100947\n",
      "Wall time: 375 ms\n"
     ]
    }
   ],
   "source": [
    "%%time\n",
    "train_error = [evaluate_ratings(train_pairs, Pi, Qa, Bi, Ba, L)]\n",
    "print(train_error[-1])"
   ]
  },
  {
   "cell_type": "code",
   "execution_count": 18,
   "metadata": {},
   "outputs": [
    {
     "name": "stdout",
     "output_type": "stream",
     "text": [
      "3.2927335103374493\n",
      "Wall time: 110 ms\n"
     ]
    }
   ],
   "source": [
    "%%time\n",
    "validate_error = [evaluate_ratings(validate_pairs, Pi, Qa, Bi, Ba, L)]\n",
    "print(validate_error[-1])"
   ]
  },
  {
   "cell_type": "code",
   "execution_count": 19,
   "metadata": {},
   "outputs": [],
   "source": [
    "from random import sample, shuffle\n",
    "\n",
    "gamma = 0.01"
   ]
  },
  {
   "cell_type": "code",
   "execution_count": 21,
   "metadata": {},
   "outputs": [],
   "source": [
    "import numpy as np"
   ]
  },
  {
   "cell_type": "code",
   "execution_count": 22,
   "metadata": {},
   "outputs": [
    {
     "name": "stdout",
     "output_type": "stream",
     "text": [
      "4 0.8988369566989682 0.9159812248431186\n",
      "9 0.8754975028953688 0.8981407450341489\n",
      "14 0.8639842082439849 0.8898163354889277\n",
      "19 0.85752490454475 0.8858529550876653\n",
      "24 0.8537975714491632 0.8843341657234969\n",
      "29 0.8502767277844652 0.8831761091587874\n",
      "34 0.8483714618344679 0.8821599794399726\n",
      "39 0.8470783525543343 0.8818172699472053\n",
      "44 0.8455965448582637 0.8815670203359205\n",
      "49 0.8443483906146751 0.8803150958319756\n",
      "Wall time: 2min 10s\n"
     ]
    }
   ],
   "source": [
    "%%time\n",
    "evaluate_every = 5\n",
    "for jjj in range(50):\n",
    "    np.random.shuffle(train_pairs)\n",
    "    for (u, m, r) in train_pairs:\n",
    "    #one step of gradient\n",
    "        rate = Bi[u] + Ba[m]\n",
    "        for i in range(L):\n",
    "            rate += Pi[u][i]*Qa[m][i]\n",
    "        error = rate - r\n",
    "        deltaBi = gamma*error     \n",
    "        deltaBa = gamma*error     \n",
    "        Bi[u] -= deltaBi\n",
    "        Ba[m] -= deltaBi\n",
    "        for i in range(L):\n",
    "            deltaPi = (gamma*error*Qa[m][i])\n",
    "            deltaQa = (gamma*error*Pi[u][i])\n",
    "            Pi[u][i] -= deltaPi\n",
    "            Qa[m][i] -= deltaQa\n",
    "    if (jjj + 1) % evaluate_every == 0:\n",
    "        train_error.append(evaluate_ratings(train_pairs, Pi, Qa, Bi, Ba, L))            \n",
    "        validate_error.append(evaluate_ratings(validate_pairs, Pi, Qa, Bi, Ba, L))            \n",
    "        print(jjj, train_error[-1], validate_error[-1])"
   ]
  },
  {
   "cell_type": "code",
   "execution_count": 23,
   "metadata": {},
   "outputs": [],
   "source": [
    "import seaborn as sns"
   ]
  },
  {
   "cell_type": "code",
   "execution_count": 24,
   "metadata": {},
   "outputs": [
    {
     "data": {
      "text/plain": [
       "<AxesSubplot:>"
      ]
     },
     "execution_count": 24,
     "metadata": {},
     "output_type": "execute_result"
    },
    {
     "data": {
      "image/png": "[encoded data removed]",
      "text/plain": [
       "<Figure size 432x288 with 1 Axes>"
      ]
     },
     "metadata": {
      "needs_background": "light"
     },
     "output_type": "display_data"
    }
   ],
   "source": [
    "sns.lineplot(x = [x for x in range(len(train_error)-1)], y=train_error[1:])\n",
    "sns.lineplot(x = [x for x in range(len(train_error)-1)], y=validate_error[1:])\n"
   ]
  },
  {
   "cell_type": "code",
   "execution_count": null,
   "metadata": {},
   "outputs": [],
   "source": [
    "from scipy.sparse import csr_matrix\n",
    "\n",
    "sub_len = len(train_pairs)#1000\n",
    "data = np.ones(len(train_pairs[:sub_len])*2)\n",
    "x_col = []\n",
    "x_row = []\n",
    "\n",
    "for i,(u,m,r) in enumerate(train_pairs[:sub_len]):\n",
    "    x_row.append(i)    \n",
    "    x_col.append(recode_users[u])    \n",
    "    x_row.append(i)    \n",
    "    x_col.append(recode_movie[m] + user_num)\n",
    "X_train = csr_matrix((data,(x_row, x_col)), shape=(sub_len, user_num+movie_num))    \n",
    "y_train = np.asarray([r for (u,m,r) in train_pairs[:sub_len]])\n"
   ]
  },
  {
   "cell_type": "markdown",
   "metadata": {},
   "source": [
    "$$y=w_0 + \\sum_{i=1}^{n}w_ix_i+\\sum_{i=1}^{n}\\sum_{j=i+1}^{n}\\langle v_i,v_j\\rangle x_ix_j$$"
   ]
  },
  {
   "cell_type": "markdown",
   "metadata": {},
   "source": [
    "$$\\frac{1}{2} \\sum_{l=1}^k \\big ((\\sum_{i=1}^d v_{i, l} x_i)^2 - \\sum_{i=1}^d v_{i, l}^2 x_i^2)$$"
   ]
  },
  {
   "cell_type": "code",
   "execution_count": null,
   "metadata": {},
   "outputs": [],
   "source": [
    "import torch\n",
    "import torch.nn as nn\n",
    "\n",
    "class FM(nn.Module):\n",
    "    def __init__(self, features_num=None, k=2):\n",
    "        super().__init__()\n",
    "        self.V = nn.Parameter(torch.randn(features_num, k), requires_grad=True)\n",
    "        torch.nn.init.xavier_uniform_(self.V.data)\n",
    "        self.linear = nn.Linear(features_num, 1)\n",
    "\n",
    "    def forward(self, X):\n",
    "        out_1 = ((X @ self.V) ** 2).sum(1, keepdim=True)\n",
    "        out_2 = ((X ** 2) @ (self.V ** 2)).sum(1, keepdim=True)\n",
    "\n",
    "        out_interaction = (out_1 - out_2) / 2\n",
    "        out_linear = self.linear(X)\n",
    "        return out_interaction + out_linear"
   ]
  },
  {
   "cell_type": "code",
   "execution_count": null,
   "metadata": {},
   "outputs": [],
   "source": [
    "%%time\n",
    "from torch import optim\n",
    "from sklearn.metrics import mean_squared_error\n",
    "\n",
    "# X_train_tensor, y_train_tensor = torch.from_numpy(X_train.toarray()), torch.from_numpy(y_train.reshape(-1, 1))\n",
    "X_train_tensor = torch.sparse_coo_tensor([x_row, x_col], data, (sub_len, user_num+movie_num))\n",
    "\n",
    "y_train_tensor = torch.from_numpy(y_train.reshape(-1, 1))\n",
    "\n",
    "model = FM(X_train.shape[1])\n",
    "criterion = nn.MSELoss() \n",
    "optimizer = optim.SGD(model.parameters(), lr=0.1)\n",
    "\n",
    "for epoch in range(10):\n",
    "    optimizer.zero_grad()\n",
    "    predictions = model(X_train_tensor.float())\n",
    "    loss = criterion(predictions, y_train_tensor.float())\n",
    "    # get gradients\n",
    "    loss.backward()\n",
    "    # update parameters\n",
    "    optimizer.step()\n",
    "    \n",
    "#X_test_tensor = torch.from_numpy(X_train.toarray())\n",
    "predictions = model(X_train_tensor.float())\n",
    "sqrt(mean_squared_error(y_train, predictions.squeeze().detach().numpy()))"
   ]
  }
 ],
 "metadata": {
  "kernelspec": {
   "display_name": "Python 3 (ipykernel)",
   "language": "python",
   "name": "python3"
  },
  "language_info": {
   "codemirror_mode": {
    "name": "ipython",
    "version": 3
   },
   "file_extension": ".py",
   "mimetype": "text/x-python",
   "name": "python",
   "nbconvert_exporter": "python",
   "pygments_lexer": "ipython3",
   "version": "3.9.6"
  }
 },
 "nbformat": 4,
 "nbformat_minor": 2
}
